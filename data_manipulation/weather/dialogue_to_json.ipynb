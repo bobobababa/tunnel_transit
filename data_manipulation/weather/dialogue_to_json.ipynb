{
 "cells": [
  {
   "cell_type": "code",
   "execution_count": 1,
   "id": "483bd318",
   "metadata": {
    "ExecuteTime": {
     "end_time": "2022-03-04T04:59:28.934800Z",
     "start_time": "2022-03-04T04:59:28.475833Z"
    }
   },
   "outputs": [],
   "source": [
    "import pandas as pd"
   ]
  },
  {
   "cell_type": "code",
   "execution_count": 2,
   "id": "862680d5",
   "metadata": {
    "ExecuteTime": {
     "end_time": "2022-03-04T04:59:48.566940Z",
     "start_time": "2022-03-04T04:59:48.549020Z"
    }
   },
   "outputs": [],
   "source": [
    "df = pd.read_json('condition.json')"
   ]
  },
  {
   "cell_type": "code",
   "execution_count": 8,
   "id": "b014ba87",
   "metadata": {
    "ExecuteTime": {
     "end_time": "2022-03-04T05:01:58.828952Z",
     "start_time": "2022-03-04T05:01:58.809630Z"
    },
    "scrolled": true
   },
   "outputs": [
    {
     "name": "stdout",
     "output_type": "stream",
     "text": [
      "(48, 4)\n"
     ]
    },
    {
     "data": {
      "text/html": [
       "<div>\n",
       "<style scoped>\n",
       "    .dataframe tbody tr th:only-of-type {\n",
       "        vertical-align: middle;\n",
       "    }\n",
       "\n",
       "    .dataframe tbody tr th {\n",
       "        vertical-align: top;\n",
       "    }\n",
       "\n",
       "    .dataframe thead th {\n",
       "        text-align: right;\n",
       "    }\n",
       "</style>\n",
       "<table border=\"1\" class=\"dataframe\">\n",
       "  <thead>\n",
       "    <tr style=\"text-align: right;\">\n",
       "      <th></th>\n",
       "      <th>code</th>\n",
       "      <th>day</th>\n",
       "      <th>night</th>\n",
       "      <th>icon</th>\n",
       "    </tr>\n",
       "  </thead>\n",
       "  <tbody>\n",
       "    <tr>\n",
       "      <th>0</th>\n",
       "      <td>1000</td>\n",
       "      <td>Sunny</td>\n",
       "      <td>Clear</td>\n",
       "      <td>113</td>\n",
       "    </tr>\n",
       "    <tr>\n",
       "      <th>1</th>\n",
       "      <td>1003</td>\n",
       "      <td>Partly cloudy</td>\n",
       "      <td>Partly cloudy</td>\n",
       "      <td>116</td>\n",
       "    </tr>\n",
       "    <tr>\n",
       "      <th>2</th>\n",
       "      <td>1006</td>\n",
       "      <td>Cloudy</td>\n",
       "      <td>Cloudy</td>\n",
       "      <td>119</td>\n",
       "    </tr>\n",
       "    <tr>\n",
       "      <th>3</th>\n",
       "      <td>1009</td>\n",
       "      <td>Overcast</td>\n",
       "      <td>Overcast</td>\n",
       "      <td>122</td>\n",
       "    </tr>\n",
       "    <tr>\n",
       "      <th>4</th>\n",
       "      <td>1030</td>\n",
       "      <td>Mist</td>\n",
       "      <td>Mist</td>\n",
       "      <td>143</td>\n",
       "    </tr>\n",
       "    <tr>\n",
       "      <th>5</th>\n",
       "      <td>1063</td>\n",
       "      <td>Patchy rain possible</td>\n",
       "      <td>Patchy rain possible</td>\n",
       "      <td>176</td>\n",
       "    </tr>\n",
       "    <tr>\n",
       "      <th>6</th>\n",
       "      <td>1066</td>\n",
       "      <td>Patchy snow possible</td>\n",
       "      <td>Patchy snow possible</td>\n",
       "      <td>179</td>\n",
       "    </tr>\n",
       "    <tr>\n",
       "      <th>7</th>\n",
       "      <td>1069</td>\n",
       "      <td>Patchy sleet possible</td>\n",
       "      <td>Patchy sleet possible</td>\n",
       "      <td>182</td>\n",
       "    </tr>\n",
       "    <tr>\n",
       "      <th>8</th>\n",
       "      <td>1072</td>\n",
       "      <td>Patchy freezing drizzle possible</td>\n",
       "      <td>Patchy freezing drizzle possible</td>\n",
       "      <td>185</td>\n",
       "    </tr>\n",
       "    <tr>\n",
       "      <th>9</th>\n",
       "      <td>1087</td>\n",
       "      <td>Thundery outbreaks possible</td>\n",
       "      <td>Thundery outbreaks possible</td>\n",
       "      <td>200</td>\n",
       "    </tr>\n",
       "    <tr>\n",
       "      <th>10</th>\n",
       "      <td>1114</td>\n",
       "      <td>Blowing snow</td>\n",
       "      <td>Blowing snow</td>\n",
       "      <td>227</td>\n",
       "    </tr>\n",
       "    <tr>\n",
       "      <th>11</th>\n",
       "      <td>1117</td>\n",
       "      <td>Blizzard</td>\n",
       "      <td>Blizzard</td>\n",
       "      <td>230</td>\n",
       "    </tr>\n",
       "    <tr>\n",
       "      <th>12</th>\n",
       "      <td>1135</td>\n",
       "      <td>Fog</td>\n",
       "      <td>Fog</td>\n",
       "      <td>248</td>\n",
       "    </tr>\n",
       "    <tr>\n",
       "      <th>13</th>\n",
       "      <td>1147</td>\n",
       "      <td>Freezing fog</td>\n",
       "      <td>Freezing fog</td>\n",
       "      <td>260</td>\n",
       "    </tr>\n",
       "    <tr>\n",
       "      <th>14</th>\n",
       "      <td>1150</td>\n",
       "      <td>Patchy light drizzle</td>\n",
       "      <td>Patchy light drizzle</td>\n",
       "      <td>263</td>\n",
       "    </tr>\n",
       "    <tr>\n",
       "      <th>15</th>\n",
       "      <td>1153</td>\n",
       "      <td>Light drizzle</td>\n",
       "      <td>Light drizzle</td>\n",
       "      <td>266</td>\n",
       "    </tr>\n",
       "    <tr>\n",
       "      <th>16</th>\n",
       "      <td>1168</td>\n",
       "      <td>Freezing drizzle</td>\n",
       "      <td>Freezing drizzle</td>\n",
       "      <td>281</td>\n",
       "    </tr>\n",
       "    <tr>\n",
       "      <th>17</th>\n",
       "      <td>1171</td>\n",
       "      <td>Heavy freezing drizzle</td>\n",
       "      <td>Heavy freezing drizzle</td>\n",
       "      <td>284</td>\n",
       "    </tr>\n",
       "    <tr>\n",
       "      <th>18</th>\n",
       "      <td>1180</td>\n",
       "      <td>Patchy light rain</td>\n",
       "      <td>Patchy light rain</td>\n",
       "      <td>293</td>\n",
       "    </tr>\n",
       "    <tr>\n",
       "      <th>19</th>\n",
       "      <td>1183</td>\n",
       "      <td>Light rain</td>\n",
       "      <td>Light rain</td>\n",
       "      <td>296</td>\n",
       "    </tr>\n",
       "    <tr>\n",
       "      <th>20</th>\n",
       "      <td>1186</td>\n",
       "      <td>Moderate rain at times</td>\n",
       "      <td>Moderate rain at times</td>\n",
       "      <td>299</td>\n",
       "    </tr>\n",
       "    <tr>\n",
       "      <th>21</th>\n",
       "      <td>1189</td>\n",
       "      <td>Moderate rain</td>\n",
       "      <td>Moderate rain</td>\n",
       "      <td>302</td>\n",
       "    </tr>\n",
       "    <tr>\n",
       "      <th>22</th>\n",
       "      <td>1192</td>\n",
       "      <td>Heavy rain at times</td>\n",
       "      <td>Heavy rain at times</td>\n",
       "      <td>305</td>\n",
       "    </tr>\n",
       "    <tr>\n",
       "      <th>23</th>\n",
       "      <td>1195</td>\n",
       "      <td>Heavy rain</td>\n",
       "      <td>Heavy rain</td>\n",
       "      <td>308</td>\n",
       "    </tr>\n",
       "    <tr>\n",
       "      <th>24</th>\n",
       "      <td>1198</td>\n",
       "      <td>Light freezing rain</td>\n",
       "      <td>Light freezing rain</td>\n",
       "      <td>311</td>\n",
       "    </tr>\n",
       "    <tr>\n",
       "      <th>25</th>\n",
       "      <td>1201</td>\n",
       "      <td>Moderate or heavy freezing rain</td>\n",
       "      <td>Moderate or heavy freezing rain</td>\n",
       "      <td>314</td>\n",
       "    </tr>\n",
       "    <tr>\n",
       "      <th>26</th>\n",
       "      <td>1204</td>\n",
       "      <td>Light sleet</td>\n",
       "      <td>Light sleet</td>\n",
       "      <td>317</td>\n",
       "    </tr>\n",
       "    <tr>\n",
       "      <th>27</th>\n",
       "      <td>1207</td>\n",
       "      <td>Moderate or heavy sleet</td>\n",
       "      <td>Moderate or heavy sleet</td>\n",
       "      <td>320</td>\n",
       "    </tr>\n",
       "    <tr>\n",
       "      <th>28</th>\n",
       "      <td>1210</td>\n",
       "      <td>Patchy light snow</td>\n",
       "      <td>Patchy light snow</td>\n",
       "      <td>323</td>\n",
       "    </tr>\n",
       "    <tr>\n",
       "      <th>29</th>\n",
       "      <td>1213</td>\n",
       "      <td>Light snow</td>\n",
       "      <td>Light snow</td>\n",
       "      <td>326</td>\n",
       "    </tr>\n",
       "    <tr>\n",
       "      <th>30</th>\n",
       "      <td>1216</td>\n",
       "      <td>Patchy moderate snow</td>\n",
       "      <td>Patchy moderate snow</td>\n",
       "      <td>329</td>\n",
       "    </tr>\n",
       "    <tr>\n",
       "      <th>31</th>\n",
       "      <td>1219</td>\n",
       "      <td>Moderate snow</td>\n",
       "      <td>Moderate snow</td>\n",
       "      <td>332</td>\n",
       "    </tr>\n",
       "    <tr>\n",
       "      <th>32</th>\n",
       "      <td>1222</td>\n",
       "      <td>Patchy heavy snow</td>\n",
       "      <td>Patchy heavy snow</td>\n",
       "      <td>335</td>\n",
       "    </tr>\n",
       "    <tr>\n",
       "      <th>33</th>\n",
       "      <td>1225</td>\n",
       "      <td>Heavy snow</td>\n",
       "      <td>Heavy snow</td>\n",
       "      <td>338</td>\n",
       "    </tr>\n",
       "    <tr>\n",
       "      <th>34</th>\n",
       "      <td>1237</td>\n",
       "      <td>Ice pellets</td>\n",
       "      <td>Ice pellets</td>\n",
       "      <td>350</td>\n",
       "    </tr>\n",
       "    <tr>\n",
       "      <th>35</th>\n",
       "      <td>1240</td>\n",
       "      <td>Light rain shower</td>\n",
       "      <td>Light rain shower</td>\n",
       "      <td>353</td>\n",
       "    </tr>\n",
       "    <tr>\n",
       "      <th>36</th>\n",
       "      <td>1243</td>\n",
       "      <td>Moderate or heavy rain shower</td>\n",
       "      <td>Moderate or heavy rain shower</td>\n",
       "      <td>356</td>\n",
       "    </tr>\n",
       "    <tr>\n",
       "      <th>37</th>\n",
       "      <td>1246</td>\n",
       "      <td>Torrential rain shower</td>\n",
       "      <td>Torrential rain shower</td>\n",
       "      <td>359</td>\n",
       "    </tr>\n",
       "    <tr>\n",
       "      <th>38</th>\n",
       "      <td>1249</td>\n",
       "      <td>Light sleet showers</td>\n",
       "      <td>Light sleet showers</td>\n",
       "      <td>362</td>\n",
       "    </tr>\n",
       "    <tr>\n",
       "      <th>39</th>\n",
       "      <td>1252</td>\n",
       "      <td>Moderate or heavy sleet showers</td>\n",
       "      <td>Moderate or heavy sleet showers</td>\n",
       "      <td>365</td>\n",
       "    </tr>\n",
       "    <tr>\n",
       "      <th>40</th>\n",
       "      <td>1255</td>\n",
       "      <td>Light snow showers</td>\n",
       "      <td>Light snow showers</td>\n",
       "      <td>368</td>\n",
       "    </tr>\n",
       "    <tr>\n",
       "      <th>41</th>\n",
       "      <td>1258</td>\n",
       "      <td>Moderate or heavy snow showers</td>\n",
       "      <td>Moderate or heavy snow showers</td>\n",
       "      <td>371</td>\n",
       "    </tr>\n",
       "    <tr>\n",
       "      <th>42</th>\n",
       "      <td>1261</td>\n",
       "      <td>Light showers of ice pellets</td>\n",
       "      <td>Light showers of ice pellets</td>\n",
       "      <td>374</td>\n",
       "    </tr>\n",
       "    <tr>\n",
       "      <th>43</th>\n",
       "      <td>1264</td>\n",
       "      <td>Moderate or heavy showers of ice pellets</td>\n",
       "      <td>Moderate or heavy showers of ice pellets</td>\n",
       "      <td>377</td>\n",
       "    </tr>\n",
       "    <tr>\n",
       "      <th>44</th>\n",
       "      <td>1273</td>\n",
       "      <td>Patchy light rain with thunder</td>\n",
       "      <td>Patchy light rain with thunder</td>\n",
       "      <td>386</td>\n",
       "    </tr>\n",
       "    <tr>\n",
       "      <th>45</th>\n",
       "      <td>1276</td>\n",
       "      <td>Moderate or heavy rain with thunder</td>\n",
       "      <td>Moderate or heavy rain with thunder</td>\n",
       "      <td>389</td>\n",
       "    </tr>\n",
       "    <tr>\n",
       "      <th>46</th>\n",
       "      <td>1279</td>\n",
       "      <td>Patchy light snow with thunder</td>\n",
       "      <td>Patchy light snow with thunder</td>\n",
       "      <td>392</td>\n",
       "    </tr>\n",
       "    <tr>\n",
       "      <th>47</th>\n",
       "      <td>1282</td>\n",
       "      <td>Moderate or heavy snow with thunder</td>\n",
       "      <td>Moderate or heavy snow with thunder</td>\n",
       "      <td>395</td>\n",
       "    </tr>\n",
       "  </tbody>\n",
       "</table>\n",
       "</div>"
      ],
      "text/plain": [
       "    code                                       day  \\\n",
       "0   1000                                     Sunny   \n",
       "1   1003                             Partly cloudy   \n",
       "2   1006                                    Cloudy   \n",
       "3   1009                                  Overcast   \n",
       "4   1030                                      Mist   \n",
       "5   1063                      Patchy rain possible   \n",
       "6   1066                      Patchy snow possible   \n",
       "7   1069                     Patchy sleet possible   \n",
       "8   1072          Patchy freezing drizzle possible   \n",
       "9   1087               Thundery outbreaks possible   \n",
       "10  1114                              Blowing snow   \n",
       "11  1117                                  Blizzard   \n",
       "12  1135                                       Fog   \n",
       "13  1147                              Freezing fog   \n",
       "14  1150                      Patchy light drizzle   \n",
       "15  1153                             Light drizzle   \n",
       "16  1168                          Freezing drizzle   \n",
       "17  1171                    Heavy freezing drizzle   \n",
       "18  1180                         Patchy light rain   \n",
       "19  1183                                Light rain   \n",
       "20  1186                    Moderate rain at times   \n",
       "21  1189                             Moderate rain   \n",
       "22  1192                       Heavy rain at times   \n",
       "23  1195                                Heavy rain   \n",
       "24  1198                       Light freezing rain   \n",
       "25  1201           Moderate or heavy freezing rain   \n",
       "26  1204                               Light sleet   \n",
       "27  1207                   Moderate or heavy sleet   \n",
       "28  1210                         Patchy light snow   \n",
       "29  1213                                Light snow   \n",
       "30  1216                      Patchy moderate snow   \n",
       "31  1219                             Moderate snow   \n",
       "32  1222                         Patchy heavy snow   \n",
       "33  1225                                Heavy snow   \n",
       "34  1237                               Ice pellets   \n",
       "35  1240                         Light rain shower   \n",
       "36  1243             Moderate or heavy rain shower   \n",
       "37  1246                    Torrential rain shower   \n",
       "38  1249                       Light sleet showers   \n",
       "39  1252           Moderate or heavy sleet showers   \n",
       "40  1255                        Light snow showers   \n",
       "41  1258            Moderate or heavy snow showers   \n",
       "42  1261              Light showers of ice pellets   \n",
       "43  1264  Moderate or heavy showers of ice pellets   \n",
       "44  1273            Patchy light rain with thunder   \n",
       "45  1276       Moderate or heavy rain with thunder   \n",
       "46  1279            Patchy light snow with thunder   \n",
       "47  1282       Moderate or heavy snow with thunder   \n",
       "\n",
       "                                       night  icon  \n",
       "0                                      Clear   113  \n",
       "1                              Partly cloudy   116  \n",
       "2                                     Cloudy   119  \n",
       "3                                   Overcast   122  \n",
       "4                                       Mist   143  \n",
       "5                       Patchy rain possible   176  \n",
       "6                       Patchy snow possible   179  \n",
       "7                      Patchy sleet possible   182  \n",
       "8           Patchy freezing drizzle possible   185  \n",
       "9                Thundery outbreaks possible   200  \n",
       "10                              Blowing snow   227  \n",
       "11                                  Blizzard   230  \n",
       "12                                       Fog   248  \n",
       "13                              Freezing fog   260  \n",
       "14                      Patchy light drizzle   263  \n",
       "15                             Light drizzle   266  \n",
       "16                          Freezing drizzle   281  \n",
       "17                    Heavy freezing drizzle   284  \n",
       "18                         Patchy light rain   293  \n",
       "19                                Light rain   296  \n",
       "20                    Moderate rain at times   299  \n",
       "21                             Moderate rain   302  \n",
       "22                       Heavy rain at times   305  \n",
       "23                                Heavy rain   308  \n",
       "24                       Light freezing rain   311  \n",
       "25           Moderate or heavy freezing rain   314  \n",
       "26                               Light sleet   317  \n",
       "27                   Moderate or heavy sleet   320  \n",
       "28                         Patchy light snow   323  \n",
       "29                                Light snow   326  \n",
       "30                      Patchy moderate snow   329  \n",
       "31                             Moderate snow   332  \n",
       "32                         Patchy heavy snow   335  \n",
       "33                                Heavy snow   338  \n",
       "34                               Ice pellets   350  \n",
       "35                         Light rain shower   353  \n",
       "36             Moderate or heavy rain shower   356  \n",
       "37                    Torrential rain shower   359  \n",
       "38                       Light sleet showers   362  \n",
       "39           Moderate or heavy sleet showers   365  \n",
       "40                        Light snow showers   368  \n",
       "41            Moderate or heavy snow showers   371  \n",
       "42              Light showers of ice pellets   374  \n",
       "43  Moderate or heavy showers of ice pellets   377  \n",
       "44            Patchy light rain with thunder   386  \n",
       "45       Moderate or heavy rain with thunder   389  \n",
       "46            Patchy light snow with thunder   392  \n",
       "47       Moderate or heavy snow with thunder   395  "
      ]
     },
     "execution_count": 8,
     "metadata": {},
     "output_type": "execute_result"
    }
   ],
   "source": [
    "print(df.shape)\n",
    "df"
   ]
  },
  {
   "cell_type": "code",
   "execution_count": 6,
   "id": "b3743136",
   "metadata": {
    "ExecuteTime": {
     "end_time": "2022-03-04T05:01:32.273302Z",
     "start_time": "2022-03-04T05:01:32.260212Z"
    }
   },
   "outputs": [
    {
     "data": {
      "text/plain": [
       "code     47\n",
       "day      47\n",
       "night    47\n",
       "icon     47\n",
       "dtype: int64"
      ]
     },
     "execution_count": 6,
     "metadata": {},
     "output_type": "execute_result"
    }
   ],
   "source": [
    "df[df['day'] == df['night']].count()"
   ]
  },
  {
   "cell_type": "code",
   "execution_count": 9,
   "id": "376816f1",
   "metadata": {
    "ExecuteTime": {
     "end_time": "2022-03-04T05:02:08.174000Z",
     "start_time": "2022-03-04T05:02:08.165157Z"
    }
   },
   "outputs": [
    {
     "data": {
      "text/html": [
       "<div>\n",
       "<style scoped>\n",
       "    .dataframe tbody tr th:only-of-type {\n",
       "        vertical-align: middle;\n",
       "    }\n",
       "\n",
       "    .dataframe tbody tr th {\n",
       "        vertical-align: top;\n",
       "    }\n",
       "\n",
       "    .dataframe thead th {\n",
       "        text-align: right;\n",
       "    }\n",
       "</style>\n",
       "<table border=\"1\" class=\"dataframe\">\n",
       "  <thead>\n",
       "    <tr style=\"text-align: right;\">\n",
       "      <th></th>\n",
       "      <th>code</th>\n",
       "      <th>day</th>\n",
       "      <th>night</th>\n",
       "      <th>icon</th>\n",
       "    </tr>\n",
       "  </thead>\n",
       "  <tbody>\n",
       "    <tr>\n",
       "      <th>0</th>\n",
       "      <td>1000</td>\n",
       "      <td>Sunny</td>\n",
       "      <td>Clear</td>\n",
       "      <td>113</td>\n",
       "    </tr>\n",
       "  </tbody>\n",
       "</table>\n",
       "</div>"
      ],
      "text/plain": [
       "   code    day  night  icon\n",
       "0  1000  Sunny  Clear   113"
      ]
     },
     "execution_count": 9,
     "metadata": {},
     "output_type": "execute_result"
    }
   ],
   "source": [
    "df[df['day'] != df['night']]"
   ]
  },
  {
   "cell_type": "code",
   "execution_count": 10,
   "id": "20e4e48e",
   "metadata": {
    "ExecuteTime": {
     "end_time": "2022-03-04T05:03:23.224722Z",
     "start_time": "2022-03-04T05:03:23.216709Z"
    }
   },
   "outputs": [],
   "source": [
    "df.to_csv('condition.csv')"
   ]
  },
  {
   "cell_type": "code",
   "execution_count": 81,
   "id": "80c10a06",
   "metadata": {
    "ExecuteTime": {
     "end_time": "2022-03-04T07:02:02.797033Z",
     "start_time": "2022-03-04T07:02:02.742379Z"
    }
   },
   "outputs": [],
   "source": [
    "weather_excel = pd.read_excel('weather_dialogue.xlsx', sheet_name = 'Sheet1')"
   ]
  },
  {
   "cell_type": "code",
   "execution_count": 82,
   "id": "32c58fab",
   "metadata": {
    "ExecuteTime": {
     "end_time": "2022-03-04T07:02:04.611827Z",
     "start_time": "2022-03-04T07:02:04.579661Z"
    }
   },
   "outputs": [
    {
     "data": {
      "text/html": [
       "<div>\n",
       "<style scoped>\n",
       "    .dataframe tbody tr th:only-of-type {\n",
       "        vertical-align: middle;\n",
       "    }\n",
       "\n",
       "    .dataframe tbody tr th {\n",
       "        vertical-align: top;\n",
       "    }\n",
       "\n",
       "    .dataframe thead th {\n",
       "        text-align: right;\n",
       "    }\n",
       "</style>\n",
       "<table border=\"1\" class=\"dataframe\">\n",
       "  <thead>\n",
       "    <tr style=\"text-align: right;\">\n",
       "      <th></th>\n",
       "      <th>name</th>\n",
       "      <th>hot1</th>\n",
       "      <th>hot2</th>\n",
       "      <th>hot3</th>\n",
       "      <th>hot4</th>\n",
       "      <th>hot5</th>\n",
       "      <th>good_tempreture1</th>\n",
       "      <th>good_tempreture2</th>\n",
       "      <th>good_tempreture3</th>\n",
       "      <th>good_tempreture4</th>\n",
       "      <th>...</th>\n",
       "      <th>highHumidity1</th>\n",
       "      <th>highHumidity2</th>\n",
       "      <th>highHumidity3</th>\n",
       "      <th>highHumidity4</th>\n",
       "      <th>highHumidity5</th>\n",
       "      <th>highUV1</th>\n",
       "      <th>highUV2</th>\n",
       "      <th>highUV3</th>\n",
       "      <th>highUV4</th>\n",
       "      <th>highUV5</th>\n",
       "    </tr>\n",
       "  </thead>\n",
       "  <tbody>\n",
       "    <tr>\n",
       "      <th>0</th>\n",
       "      <td>Hubert</td>\n",
       "      <td>好热啊，要吃个冰棒吗？今天气温有{temp_c}。</td>\n",
       "      <td>今天气温有{temp_c}，真的是要死人了。</td>\n",
       "      <td>希望这是今年的最高温，{temp_c}。</td>\n",
       "      <td>这种温度，甚至想要去搬去极寒气候的地方住了。</td>\n",
       "      <td>{temp_c}。听说你们那里有不错的降温设备，不知道和冰系魔法有没有什么关系？</td>\n",
       "      <td>气温还可以，{temp_c}，很舒服。</td>\n",
       "      <td>气温为{temp_c}，我喜欢热一点，但这种温度确实也很舒服。</td>\n",
       "      <td>今天温度是{temp_c}，希望可以再这样持续一阵。</td>\n",
       "      <td>{temp_c}。</td>\n",
       "      <td>...</td>\n",
       "      <td>很潮湿的气候。</td>\n",
       "      <td>很潮湿。</td>\n",
       "      <td>潮湿的地方我并不讨厌。</td>\n",
       "      <td>这种潮湿的气候，让我想起一些往事。</td>\n",
       "      <td>空气潮湿。</td>\n",
       "      <td>紫外线很强，出门注意防护。</td>\n",
       "      <td>小心紫外线伤到皮肤。</td>\n",
       "      <td>紫外线是自然界的魔法吗？</td>\n",
       "      <td>紫外线很强，真是厉害的自然界魔法。</td>\n",
       "      <td>听说有些人发明了能抵御紫外线的东西。不如试试看？</td>\n",
       "    </tr>\n",
       "  </tbody>\n",
       "</table>\n",
       "<p>1 rows × 76 columns</p>\n",
       "</div>"
      ],
      "text/plain": [
       "     name                       hot1                    hot2  \\\n",
       "0  Hubert  好热啊，要吃个冰棒吗？今天气温有{temp_c}。  今天气温有{temp_c}，真的是要死人了。   \n",
       "\n",
       "                   hot3                    hot4  \\\n",
       "0  希望这是今年的最高温，{temp_c}。  这种温度，甚至想要去搬去极寒气候的地方住了。   \n",
       "\n",
       "                                       hot5     good_tempreture1  \\\n",
       "0  {temp_c}。听说你们那里有不错的降温设备，不知道和冰系魔法有没有什么关系？  气温还可以，{temp_c}，很舒服。   \n",
       "\n",
       "                  good_tempreture2            good_tempreture3  \\\n",
       "0  气温为{temp_c}，我喜欢热一点，但这种温度确实也很舒服。  今天温度是{temp_c}，希望可以再这样持续一阵。   \n",
       "\n",
       "  good_tempreture4  ... highHumidity1 highHumidity2 highHumidity3  \\\n",
       "0        {temp_c}。  ...       很潮湿的气候。          很潮湿。   潮湿的地方我并不讨厌。   \n",
       "\n",
       "       highHumidity4 highHumidity5        highUV1     highUV2       highUV3  \\\n",
       "0  这种潮湿的气候，让我想起一些往事。         空气潮湿。  紫外线很强，出门注意防护。  小心紫外线伤到皮肤。  紫外线是自然界的魔法吗？   \n",
       "\n",
       "             highUV4                   highUV5  \n",
       "0  紫外线很强，真是厉害的自然界魔法。  听说有些人发明了能抵御紫外线的东西。不如试试看？  \n",
       "\n",
       "[1 rows x 76 columns]"
      ]
     },
     "execution_count": 82,
     "metadata": {},
     "output_type": "execute_result"
    }
   ],
   "source": [
    "weather_excel"
   ]
  },
  {
   "cell_type": "code",
   "execution_count": 83,
   "id": "d4aed4bb",
   "metadata": {
    "ExecuteTime": {
     "end_time": "2022-03-04T07:03:52.768417Z",
     "start_time": "2022-03-04T07:03:52.753379Z"
    }
   },
   "outputs": [],
   "source": [
    "weather_key_list = ['botName', 'hot', 'goodTempreture', 'cold', 'sunny', 'cloudy', 'rain', 'heavyRain', \n",
    "                    'snow', 'heavySnow', 'thundery', 'fog', 'extreme', 'bigWind', 'highHumidity', 'highUV']\n"
   ]
  },
  {
   "cell_type": "code",
   "execution_count": 84,
   "id": "d487acd8",
   "metadata": {
    "ExecuteTime": {
     "end_time": "2022-03-04T07:03:54.379541Z",
     "start_time": "2022-03-04T07:03:54.373315Z"
    }
   },
   "outputs": [],
   "source": [
    "weather_json = pd.DataFrame(columns = weather_key_list)"
   ]
  },
  {
   "cell_type": "code",
   "execution_count": 85,
   "id": "f38942f3",
   "metadata": {
    "ExecuteTime": {
     "end_time": "2022-03-04T07:03:55.380132Z",
     "start_time": "2022-03-04T07:03:55.374679Z"
    }
   },
   "outputs": [],
   "source": [
    "weather_json['botName'] = weather_excel['name']"
   ]
  },
  {
   "cell_type": "code",
   "execution_count": 86,
   "id": "6e65631e",
   "metadata": {
    "ExecuteTime": {
     "end_time": "2022-03-04T07:04:57.043323Z",
     "start_time": "2022-03-04T07:04:57.001600Z"
    }
   },
   "outputs": [],
   "source": [
    "weather_json['hot'] = weather_excel.filter(like='hot').apply(lambda x: x.dropna().tolist(), axis=1)\n",
    "weather_json['goodTempreture'] = weather_excel.filter(like='good_tempreture').apply(lambda x: x.dropna().tolist(), axis=1)\n",
    "weather_json['cold'] = weather_excel.filter(like='cold').apply(lambda x: x.dropna().tolist(), axis=1)\n",
    "weather_json['sunny'] = weather_excel.filter(like='sunny').apply(lambda x: x.dropna().tolist(), axis=1)\n",
    "weather_json['cloudy'] = weather_excel.filter(like='cloudy').apply(lambda x: x.dropna().tolist(), axis=1)\n",
    "weather_json['rain'] = weather_excel.filter(like='rain').apply(lambda x: x.dropna().tolist(), axis=1)\n",
    "weather_json['heavyRain'] = weather_excel.filter(like='heavyRain').apply(lambda x: x.dropna().tolist(), axis=1)\n",
    "weather_json['snow'] = weather_excel.filter(like='snow').apply(lambda x: x.dropna().tolist(), axis=1)\n",
    "weather_json['heavySnow'] = weather_excel.filter(like='heavySnow').apply(lambda x: x.dropna().tolist(), axis=1)\n",
    "weather_json['thundery'] = weather_excel.filter(like='thundery').apply(lambda x: x.dropna().tolist(), axis=1)\n",
    "weather_json['fog'] = weather_excel.filter(like='fog').apply(lambda x: x.dropna().tolist(), axis=1)\n",
    "weather_json['extreme'] = weather_excel.filter(like='extreme').apply(lambda x: x.dropna().tolist(), axis=1)\n",
    "weather_json['bigWind'] = weather_excel.filter(like='bigWind').apply(lambda x: x.dropna().tolist(), axis=1)\n",
    "weather_json['highHumidity'] = weather_excel.filter(like='highHumidity').apply(lambda x: x.dropna().tolist(), axis=1)\n",
    "weather_json['highUV'] = weather_excel.filter(like='highUV').apply(lambda x: x.dropna().tolist(), axis=1)"
   ]
  },
  {
   "cell_type": "code",
   "execution_count": 87,
   "id": "4e658026",
   "metadata": {
    "ExecuteTime": {
     "end_time": "2022-03-04T07:04:59.095313Z",
     "start_time": "2022-03-04T07:04:59.084484Z"
    }
   },
   "outputs": [],
   "source": [
    "d = weather_json[weather_key_list].to_dict(orient='records')"
   ]
  },
  {
   "cell_type": "code",
   "execution_count": 88,
   "id": "ff1237c9",
   "metadata": {
    "ExecuteTime": {
     "end_time": "2022-03-04T07:05:00.679724Z",
     "start_time": "2022-03-04T07:05:00.671675Z"
    }
   },
   "outputs": [
    {
     "data": {
      "text/plain": [
       "[{'botName': 'Hubert',\n",
       "  'hot': ['好热啊，要吃个冰棒吗？今天气温有{temp_c}。',\n",
       "   '今天气温有{temp_c}，真的是要死人了。',\n",
       "   '希望这是今年的最高温，{temp_c}。',\n",
       "   '这种温度，甚至想要去搬去极寒气候的地方住了。',\n",
       "   '{temp_c}。听说你们那里有不错的降温设备，不知道和冰系魔法有没有什么关系？'],\n",
       "  'goodTempreture': ['气温还可以，{temp_c}，很舒服。',\n",
       "   '气温为{temp_c}，我喜欢热一点，但这种温度确实也很舒服。',\n",
       "   '今天温度是{temp_c}，希望可以再这样持续一阵。',\n",
       "   '{temp_c}。',\n",
       "   '{temp_c}，这样的气温可以做很多事情。'],\n",
       "  'cold': ['{temp_c}！{temp_c}！{temp_c}！',\n",
       "   '{temp_c}，这种气候我不是很习惯…',\n",
       "   '这就是为什么我不喜欢那个国家… {temp_c}，这种温度是无法长出特芙豆的。',\n",
       "   '多生一点火吧，{temp_c}实在是太冷了。',\n",
       "   '真可怜，{temp_c}这么冷的温度。要不要来帝国生活？'],\n",
       "  'sunny': ['天气晴朗，可以一眼看到远处的军营。',\n",
       "   '每天都应该好好辅佐皇女，尤其是在这种阳光明媚的日子。',\n",
       "   '就算天气很好，我也不会进行飞行训练。',\n",
       "   '天气真不错，来一杯特芙吧。',\n",
       "   '天气晴朗，希望老师不要让我们进行飞行训练...'],\n",
       "  'cloudy': ['在乌云笼罩的天气里也不能影响心情。',\n",
       "   '运气在多云的天气会变得更好，这是我听来的一句话。',\n",
       "   '哼哼，希望明天会是好天气。',\n",
       "   '多云啊，要下雨了吗？',\n",
       "   '云聚集在一起了，如果我也有那么强大的魔法，肯定可以做成更多事情。'],\n",
       "  'rain': ['有小到中雨，请减少外出。',\n",
       "   '下雨天出门请格外小心。',\n",
       "   '雨水是无法冲洗人类的罪恶的。',\n",
       "   '雨天和特芙是绝配。',\n",
       "   '下雨天适合思考，我会反思一些最近发生的事情。'],\n",
       "  'heavyRain': ['有大暴雨，请减少外出。',\n",
       "   '特大暴雨，对一些人民来说是毁灭性的吧。',\n",
       "   '有时候天气也会左右战场上的局势。',\n",
       "   '暴雨天气请务必小心，以免感冒。',\n",
       "   '我认识一个傻子喜欢在暴雨天出去跑去。请您务必不要学他。'],\n",
       "  'snow': ['雪吗？我住的地方很少见到。',\n",
       "   '是雪啊，真少见。',\n",
       "   '今天会下雪。',\n",
       "   '下雪了，请注意保暖。',\n",
       "   '雪天… 我不是很喜欢冷的地方。'],\n",
       "  'heavySnow': ['会有一场大雪，真是壮观。',\n",
       "   '大雪天气，请注意脚下。',\n",
       "   '这种大雪天气可以来一杯热特芙。',\n",
       "   '会下很大的雪，不如在室内进行活动吧。',\n",
       "   '很大的雪啊，这种天气也要出门的话，就多吃一些热乎的吧。'],\n",
       "  'thundery': ['会打雷。',\n",
       "   '打雷的声音，不知道皇女怕不怕。',\n",
       "   '要是害怕打雷的声音，也可以选择戴上耳机。',\n",
       "   '在打雷的时候，我喜欢去歌剧院看演出。',\n",
       "   '在学校的时候，如果打雷了，我们就会去蒸桑拿。'],\n",
       "  'fog': ['有雾。',\n",
       "   '雾天，请注意安全。',\n",
       "   '通常我们认为雾天更适合偷袭和埋伏，事实上也确实是这样。呵呵呵。',\n",
       "   '雾很大，请小心出行。骑马的话，哦，开车的话，更是要多加注意。',\n",
       "   '雾天有一种特殊的味道，我并不讨厌。'],\n",
       "  'extreme': ['有极端天气。请避免外出，外面的车和马也请进来放进室内。',\n",
       "   '极端天气，请注意好防护。',\n",
       "   '有极端天气，进行些室内互动比较好，比如整理落下的公务。',\n",
       "   '在这种极端的天气里，做什么事情都要更加小心。但有时候我会不小心多喝一杯特芙，呵呵呵。',\n",
       "   '学校在极端天气里会取消课程，我们在自己的房间内自习。'],\n",
       "  'bigWind': ['风很大，注意安全。',\n",
       "   '好像风会很大，我会告诉皇女叫她多小心。请你也多注意安全。',\n",
       "   '大风天，说别人的坏话可能会被吹到人家耳朵里，呵呵呵。',\n",
       "   '大风天。',\n",
       "   '风很大。'],\n",
       "  'highHumidity': ['很潮湿的气候。',\n",
       "   '很潮湿。',\n",
       "   '潮湿的地方我并不讨厌。',\n",
       "   '这种潮湿的气候，让我想起一些往事。',\n",
       "   '空气潮湿。'],\n",
       "  'highUV': ['紫外线很强，出门注意防护。',\n",
       "   '小心紫外线伤到皮肤。',\n",
       "   '紫外线是自然界的魔法吗？',\n",
       "   '紫外线很强，真是厉害的自然界魔法。',\n",
       "   '听说有些人发明了能抵御紫外线的东西。不如试试看？']}]"
      ]
     },
     "execution_count": 88,
     "metadata": {},
     "output_type": "execute_result"
    }
   ],
   "source": [
    "d"
   ]
  },
  {
   "cell_type": "code",
   "execution_count": 57,
   "id": "cb9bd4c4",
   "metadata": {
    "ExecuteTime": {
     "end_time": "2022-03-04T06:20:53.647068Z",
     "start_time": "2022-03-04T06:20:53.637056Z"
    }
   },
   "outputs": [],
   "source": [
    "dd = weather_json.to_json(orient = 'records', indent = 4, force_ascii=False)"
   ]
  },
  {
   "cell_type": "code",
   "execution_count": 58,
   "id": "a5b57e20",
   "metadata": {
    "ExecuteTime": {
     "end_time": "2022-03-04T06:20:54.793707Z",
     "start_time": "2022-03-04T06:20:54.788381Z"
    }
   },
   "outputs": [
    {
     "data": {
      "text/plain": [
       "'[\\n    {\\n        \"bot_name\":\"Hubert\",\\n        \"hot\":[\\n            \"好热啊，要吃个冰棒吗？今天气温有{feelslike_c}。\",\\n            \"今天气温有{feelslike_c}，真的是要死人了。\",\\n            \"希望这是今年的最高温，{feelslike_c}。\",\\n            \"这种温度，甚至想要去搬去极寒气候的地方住了。\",\\n            \"{feelslike_c}。听说你们那里有不错的降温设备，不知道和冰系魔法有没有什么关系？\"\\n        ],\\n        \"good_tempreture\":[\\n            \"气温还可以，{feelslike_c}，很舒服。\",\\n            \"气温为{feelslike_c}，我喜欢热一点，但这种温度确实也很舒服。\",\\n            \"今天温度是{feelslike_c}，希望可以再这样持续一阵。\",\\n            \"{feelslike_c}。\",\\n            \"{feelslike_c}，这样的气温可以做很多事情。\"\\n        ],\\n        \"cold\":[\\n            \"{feelslike_c}！{feelslike_c}！{feelslike_c}！\",\\n            \"{feelslike_c}，这种气候我不是很习惯…\",\\n            \"这就是为什么我不喜欢那个国家… {feelslike_c}，这种温度是无法长出特芙豆的。\",\\n            \"多生一点火吧，{feelslike_c}实在是太冷了。\",\\n            \"真可怜，{feelslike_c}这么冷的温度。要不要来帝国生活？\"\\n        ],\\n        \"sunny\":[\\n            \"天气晴朗，可以一眼看到远处的军营。\",\\n            \"每天都应该好好辅佐皇女，尤其是在这种阳光明媚的日子。\",\\n            \"就算天气很好，我也不会进行飞行训练。\",\\n            \"天气真不错，来一杯特芙吧。\",\\n            \"天气晴朗，希望老师不要让我们进行飞行训练...\"\\n        ],\\n        \"cloudy\":[\\n            \"在乌云笼罩的天气里也不能影响心情。\",\\n            \"运气在多云的天气会变得更好，这是我听来的一句话。\",\\n            \"哼哼，希望明天会是好天气。\",\\n            \"多云啊，要下雨了吗？\",\\n            \"云聚集在一起了，如果我也有那么强大的魔法，肯定可以做成更多事情。\"\\n        ]\\n    }\\n]'"
      ]
     },
     "execution_count": 58,
     "metadata": {},
     "output_type": "execute_result"
    }
   ],
   "source": [
    "dd"
   ]
  },
  {
   "cell_type": "code",
   "execution_count": 59,
   "id": "996545e9",
   "metadata": {
    "ExecuteTime": {
     "end_time": "2022-03-04T06:21:02.132411Z",
     "start_time": "2022-03-04T06:21:02.107649Z"
    }
   },
   "outputs": [
    {
     "ename": "AttributeError",
     "evalue": "'str' object has no attribute 'to_json'",
     "output_type": "error",
     "traceback": [
      "\u001b[0;31m---------------------------------------------------------------------------\u001b[0m",
      "\u001b[0;31mAttributeError\u001b[0m                            Traceback (most recent call last)",
      "\u001b[0;32m/var/folders/fj/j12nj1vx54sfq0mdly_0zr6m0000gq/T/ipykernel_53257/3595656644.py\u001b[0m in \u001b[0;36m<module>\u001b[0;34m\u001b[0m\n\u001b[0;32m----> 1\u001b[0;31m \u001b[0mdd\u001b[0m\u001b[0;34m.\u001b[0m\u001b[0mto_json\u001b[0m\u001b[0;34m(\u001b[0m\u001b[0;34m'weather_dialogue.json'\u001b[0m\u001b[0;34m)\u001b[0m\u001b[0;34m\u001b[0m\u001b[0;34m\u001b[0m\u001b[0m\n\u001b[0m",
      "\u001b[0;31mAttributeError\u001b[0m: 'str' object has no attribute 'to_json'"
     ]
    }
   ],
   "source": [
    "dd.to_json('weather_dialogue.json')"
   ]
  }
 ],
 "metadata": {
  "kernelspec": {
   "display_name": "Python 3 (ipykernel)",
   "language": "python",
   "name": "python3"
  },
  "language_info": {
   "codemirror_mode": {
    "name": "ipython",
    "version": 3
   },
   "file_extension": ".py",
   "mimetype": "text/x-python",
   "name": "python",
   "nbconvert_exporter": "python",
   "pygments_lexer": "ipython3",
   "version": "3.9.7"
  },
  "varInspector": {
   "cols": {
    "lenName": 16,
    "lenType": 16,
    "lenVar": 40
   },
   "kernels_config": {
    "python": {
     "delete_cmd_postfix": "",
     "delete_cmd_prefix": "del ",
     "library": "var_list.py",
     "varRefreshCmd": "print(var_dic_list())"
    },
    "r": {
     "delete_cmd_postfix": ") ",
     "delete_cmd_prefix": "rm(",
     "library": "var_list.r",
     "varRefreshCmd": "cat(var_dic_list()) "
    }
   },
   "types_to_exclude": [
    "module",
    "function",
    "builtin_function_or_method",
    "instance",
    "_Feature"
   ],
   "window_display": false
  }
 },
 "nbformat": 4,
 "nbformat_minor": 5
}
